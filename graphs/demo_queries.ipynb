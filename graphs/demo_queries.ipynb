{
 "cells": [
  {
   "cell_type": "markdown",
   "metadata": {},
   "source": [
    "# 🧠 Neo4j Demo: Querying Knowledge Graph\n",
    "\n",
    "This notebook demonstrates how to query a knowledge graph of content chunks, topics, authors, and schemas using Cypher and Neo4j.\n",
    "\n",
    "We'll:\n",
    "- Connect to Neo4j\n",
    "- Run basic Cypher queries\n",
    "- Explore the structure of your knowledge system\n"
   ]
  },
  {
   "cell_type": "code",
   "execution_count": null,
   "metadata": {},
   "outputs": [],
   "source": [
    "# 🚀 Setup: Connect to Neo4j using py2neo\n",
    "from py2neo import Graph\n",
    "\n",
    "# Adjust your credentials here\n",
    "NEO4J_URL = \"bolt://localhost:7687\"\n",
    "NEO4J_USER = \"neo4j\"\n",
    "NEO4J_PASSWORD = \"password\"\n",
    "\n",
    "graph = Graph(NEO4J_URL, auth=(NEO4J_USER, NEO4J_PASSWORD))\n",
    "print(\"Connected to Neo4j\")"
   ]
  },
  {
   "cell_type": "markdown",
   "metadata": {},
   "source": [
    "## 📘 Chapters and Their Chunks"
   ]
  },
  {
   "cell_type": "code",
   "execution_count": null,
   "metadata": {},
   "outputs": [],
   "source": [
    "query = \"\"\"\n",
    "MATCH (c:Chapter)-[:CONTAINS]->(cc:ContentChunk)\n",
    "RETURN c.title AS chapter, cc.heading AS heading, cc.id AS chunk_id\n",
    "ORDER BY c.order, cc.order\n",
    "\"\"\"\n",
    "\n",
    "df = graph.run(query).to_data_frame()\n",
    "df.head()"
   ]
  },
  {
   "cell_type": "markdown",
   "metadata": {},
   "source": [
    "## 🏷 All Topics in Use"
   ]
  },
  {
   "cell_type": "code",
   "execution_count": null,
   "metadata": {},
   "outputs": [],
   "source": [
    "query = \"\"\"\n",
    "MATCH (cc:ContentChunk)-[:TAGGED_WITH]->(t:Topic)\n",
    "RETURN DISTINCT t.name AS topic\n",
    "ORDER BY topic\n",
    "\"\"\"\n",
    "\n",
    "topics = graph.run(query).to_data_frame()\n",
    "topics"
   ]
  },
  {
   "cell_type": "markdown",
   "metadata": {},
   "source": [
    "## ✍️ Chunks and Their Authors"
   ]
  },
  {
   "cell_type": "code",
   "execution_count": null,
   "metadata": {},
   "outputs": [],
   "source": [
    "query = \"\"\"\n",
    "MATCH (a:Author)-[:WROTE]->(cc:ContentChunk)\n",
    "RETURN a.name AS author, cc.heading AS heading, cc.id AS chunk_id\n",
    "ORDER BY author\n",
    "\"\"\"\n",
    "\n",
    "authors = graph.run(query).to_data_frame()\n",
    "authors"
   ]
  },
  {
   "cell_type": "markdown",
   "metadata": {},
   "source": [
    "## ✅ Chunks and Validation Schema"
   ]
  },
  {
   "cell_type": "code",
   "execution_count": null,
   "metadata": {},
   "outputs": [],
   "source": [
    "query = \"\"\"\n",
    "MATCH (cc:ContentChunk)-[:VALIDATED_BY]->(s:Schema)\n",
    "RETURN cc.id AS chunk_id, s.name AS schema, s.version AS version\n",
    "ORDER BY schema\n",
    "\"\"\"\n",
    "\n",
    "validation = graph.run(query).to_data_frame()\n",
    "validation"
   ]
  },
  {
   "cell_type": "markdown",
   "metadata": {},
   "source": [
    "## 🧭 Next Steps\n",
    "\n",
    "- Visualize graph neighborhoods with `GraphDataScience`\n",
    "- Apply schema.org types to map content to web metadata\n",
    "- Generate embeddings for chunk-based semantic search"
   ]
  }
 ],
 "metadata": {
  "kernelspec": {
   "display_name": "Python 3",
   "language": "python",
   "name": "python3"
  },
  "language_info": {
   "name": "python",
   "version": ""
  }
 },
 "nbformat": 4,
 "nbformat_minor": 5
}