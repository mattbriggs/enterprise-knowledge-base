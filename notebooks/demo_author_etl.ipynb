{
 "cells": [
  {
   "cell_type": "markdown",
   "metadata": {},
   "source": [
    "# 📄 Demo: Authoring + ETL Pipeline\n",
    "\n",
    "This notebook demonstrates a basic ETL pipeline that:\n",
    "\n",
    "- Loads Markdown files from the `content/` folder\n",
    "- Parses YAML front matter and section headings\n",
    "- Breaks content into semantic chunks\n",
    "- Structures the output for storage, publishing, or graph modeling\n"
   ]
  },
  {
   "cell_type": "code",
   "execution_count": null,
   "metadata": {},
   "outputs": [],
   "source": [
    "# 📦 Imports\n",
    "import os\n",
    "import yaml\n",
    "import re\n",
    "from pathlib import Path\n",
    "from typing import List, Dict\n",
    "\n",
    "CONTENT_DIR = Path(\"../content\")"
   ]
  },
  {
   "cell_type": "code",
   "execution_count": null,
   "metadata": {},
   "outputs": [],
   "source": [
    "# 🛠 Utility: Split YAML front matter and Markdown body\n",
    "def split_front_matter(md_text: str):\n",
    "    match = re.match(r'^---\\n(.*?)\\n---\\n(.*)', md_text, re.DOTALL)\n",
    "    if match:\n",
    "        meta = yaml.safe_load(match.group(1))\n",
    "        body = match.group(2)\n",
    "    else:\n",
    "        meta = {}\n",
    "        body = md_text\n",
    "    return meta, body"
   ]
  },
  {
   "cell_type": "code",
   "execution_count": null,
   "metadata": {},
   "outputs": [],
   "source": [
    "# 🛠 Utility: Break content into heading-based chunks\n",
    "def chunk_markdown_by_heading(body: str) -> List[Dict]:\n",
    "    pattern = re.compile(r'(?=^##\\s)', re.MULTILINE)\n",
    "    sections = pattern.split(body)\n",
    "    chunks = []\n",
    "    for section in sections:\n",
    "        heading_match = re.match(r'^##\\s+(.*)', section.strip())\n",
    "        title = heading_match.group(1) if heading_match else \"Intro\"\n",
    "        chunks.append({\n",
    "            \"heading\": title.strip(),\n",
    "            \"content\": section.strip()\n",
    "        })\n",
    "    return chunks"
   ]
  },
  {
   "cell_type": "code",
   "execution_count": null,
   "metadata": {},
   "outputs": [],
   "source": [
    "# 🔄 Run ETL over all Markdown chapters\n",
    "def extract_chunks_from_folder(folder: Path) -> List[Dict]:\n",
    "    all_chunks = []\n",
    "    for file in sorted(folder.glob(\"*.md\")):\n",
    "        with open(file, \"r\", encoding=\"utf-8\") as f:\n",
    "            raw_md = f.read()\n",
    "        meta, body = split_front_matter(raw_md)\n",
    "        chunks = chunk_markdown_by_heading(body)\n",
    "        for chunk in chunks:\n",
    "            chunk[\"source_file\"] = file.name\n",
    "            chunk[\"metadata\"] = meta\n",
    "        all_chunks.extend(chunks)\n",
    "    return all_chunks"
   ]
  },
  {
   "cell_type": "code",
   "execution_count": null,
   "metadata": {},
   "outputs": [],
   "source": [
    "# 🚀 Extract!\n",
    "chunks = extract_chunks_from_folder(CONTENT_DIR)\n",
    "print(f\"Extracted {len(chunks)} content chunks from {CONTENT_DIR}\")"
   ]
  },
  {
   "cell_type": "code",
   "execution_count": null,
   "metadata": {},
   "outputs": [],
   "source": [
    "# 🔍 Preview the first few chunks\n",
    "import pandas as pd\n",
    "\n",
    "df = pd.DataFrame(chunks)\n",
    "df[[\"source_file\", \"heading\", \"content\"]].head(5)"
   ]
  },
  {
   "cell_type": "markdown",
   "metadata": {},
   "source": [
    "## ✅ Next Steps\n",
    "\n",
    "- Validate structured data using JSON Schema\n",
    "- Store chunks in SQLite, Postgres, or a document store\n",
    "- Map content to a graph using `py2neo` and Schema.org types\n",
    "- Generate summaries and embeddings for AI retrieval\n"
   ]
  }
 ],
 "metadata": {
  "kernelspec": {
   "display_name": "Python 3",
   "language": "python",
   "name": "python3"
  },
  "language_info": {
   "name": "python",
   "version": ""
  }
 },
 "nbformat": 4,
 "nbformat_minor": 5
}